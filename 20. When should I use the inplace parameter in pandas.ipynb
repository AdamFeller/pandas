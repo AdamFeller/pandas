{
 "cells": [
  {
   "cell_type": "markdown",
   "metadata": {},
   "source": [
    "# When should I use the \"inplace\" parameter in pandas?"
   ]
  },
  {
   "cell_type": "markdown",
   "metadata": {},
   "source": [
    "video : https://www.youtube.com/watch?v=XaCSdr7pPmY&list=PL5-da3qGB5ICCsgW1MxlZ0Hq8LL5U3u9y&index=20"
   ]
  },
  {
   "cell_type": "code",
   "execution_count": 1,
   "metadata": {
    "collapsed": true
   },
   "outputs": [],
   "source": [
    "import pandas as pd"
   ]
  },
  {
   "cell_type": "code",
   "execution_count": 2,
   "metadata": {
    "collapsed": true
   },
   "outputs": [],
   "source": [
    "ufo = pd.read_csv('http://bit.ly/uforeports')"
   ]
  },
  {
   "cell_type": "code",
   "execution_count": 3,
   "metadata": {},
   "outputs": [
    {
     "data": {
      "text/html": [
       "<div>\n",
       "<style>\n",
       "    .dataframe thead tr:only-child th {\n",
       "        text-align: right;\n",
       "    }\n",
       "\n",
       "    .dataframe thead th {\n",
       "        text-align: left;\n",
       "    }\n",
       "\n",
       "    .dataframe tbody tr th {\n",
       "        vertical-align: top;\n",
       "    }\n",
       "</style>\n",
       "<table border=\"1\" class=\"dataframe\">\n",
       "  <thead>\n",
       "    <tr style=\"text-align: right;\">\n",
       "      <th></th>\n",
       "      <th>City</th>\n",
       "      <th>Colors Reported</th>\n",
       "      <th>Shape Reported</th>\n",
       "      <th>State</th>\n",
       "      <th>Time</th>\n",
       "    </tr>\n",
       "  </thead>\n",
       "  <tbody>\n",
       "    <tr>\n",
       "      <th>0</th>\n",
       "      <td>Ithaca</td>\n",
       "      <td>NaN</td>\n",
       "      <td>TRIANGLE</td>\n",
       "      <td>NY</td>\n",
       "      <td>6/1/1930 22:00</td>\n",
       "    </tr>\n",
       "    <tr>\n",
       "      <th>1</th>\n",
       "      <td>Willingboro</td>\n",
       "      <td>NaN</td>\n",
       "      <td>OTHER</td>\n",
       "      <td>NJ</td>\n",
       "      <td>6/30/1930 20:00</td>\n",
       "    </tr>\n",
       "    <tr>\n",
       "      <th>2</th>\n",
       "      <td>Holyoke</td>\n",
       "      <td>NaN</td>\n",
       "      <td>OVAL</td>\n",
       "      <td>CO</td>\n",
       "      <td>2/15/1931 14:00</td>\n",
       "    </tr>\n",
       "    <tr>\n",
       "      <th>3</th>\n",
       "      <td>Abilene</td>\n",
       "      <td>NaN</td>\n",
       "      <td>DISK</td>\n",
       "      <td>KS</td>\n",
       "      <td>6/1/1931 13:00</td>\n",
       "    </tr>\n",
       "    <tr>\n",
       "      <th>4</th>\n",
       "      <td>New York Worlds Fair</td>\n",
       "      <td>NaN</td>\n",
       "      <td>LIGHT</td>\n",
       "      <td>NY</td>\n",
       "      <td>4/18/1933 19:00</td>\n",
       "    </tr>\n",
       "  </tbody>\n",
       "</table>\n",
       "</div>"
      ],
      "text/plain": [
       "                   City Colors Reported Shape Reported State             Time\n",
       "0                Ithaca             NaN       TRIANGLE    NY   6/1/1930 22:00\n",
       "1           Willingboro             NaN          OTHER    NJ  6/30/1930 20:00\n",
       "2               Holyoke             NaN           OVAL    CO  2/15/1931 14:00\n",
       "3               Abilene             NaN           DISK    KS   6/1/1931 13:00\n",
       "4  New York Worlds Fair             NaN          LIGHT    NY  4/18/1933 19:00"
      ]
     },
     "execution_count": 3,
     "metadata": {},
     "output_type": "execute_result"
    }
   ],
   "source": [
    "ufo.iloc[0:5,:]"
   ]
  },
  {
   "cell_type": "code",
   "execution_count": 4,
   "metadata": {},
   "outputs": [
    {
     "data": {
      "text/html": [
       "<div>\n",
       "<style>\n",
       "    .dataframe thead tr:only-child th {\n",
       "        text-align: right;\n",
       "    }\n",
       "\n",
       "    .dataframe thead th {\n",
       "        text-align: left;\n",
       "    }\n",
       "\n",
       "    .dataframe tbody tr th {\n",
       "        vertical-align: top;\n",
       "    }\n",
       "</style>\n",
       "<table border=\"1\" class=\"dataframe\">\n",
       "  <thead>\n",
       "    <tr style=\"text-align: right;\">\n",
       "      <th></th>\n",
       "      <th>Colors Reported</th>\n",
       "      <th>Shape Reported</th>\n",
       "      <th>State</th>\n",
       "      <th>Time</th>\n",
       "    </tr>\n",
       "  </thead>\n",
       "  <tbody>\n",
       "    <tr>\n",
       "      <th>0</th>\n",
       "      <td>NaN</td>\n",
       "      <td>TRIANGLE</td>\n",
       "      <td>NY</td>\n",
       "      <td>6/1/1930 22:00</td>\n",
       "    </tr>\n",
       "    <tr>\n",
       "      <th>1</th>\n",
       "      <td>NaN</td>\n",
       "      <td>OTHER</td>\n",
       "      <td>NJ</td>\n",
       "      <td>6/30/1930 20:00</td>\n",
       "    </tr>\n",
       "    <tr>\n",
       "      <th>2</th>\n",
       "      <td>NaN</td>\n",
       "      <td>OVAL</td>\n",
       "      <td>CO</td>\n",
       "      <td>2/15/1931 14:00</td>\n",
       "    </tr>\n",
       "    <tr>\n",
       "      <th>3</th>\n",
       "      <td>NaN</td>\n",
       "      <td>DISK</td>\n",
       "      <td>KS</td>\n",
       "      <td>6/1/1931 13:00</td>\n",
       "    </tr>\n",
       "    <tr>\n",
       "      <th>4</th>\n",
       "      <td>NaN</td>\n",
       "      <td>LIGHT</td>\n",
       "      <td>NY</td>\n",
       "      <td>4/18/1933 19:00</td>\n",
       "    </tr>\n",
       "  </tbody>\n",
       "</table>\n",
       "</div>"
      ],
      "text/plain": [
       "  Colors Reported Shape Reported State             Time\n",
       "0             NaN       TRIANGLE    NY   6/1/1930 22:00\n",
       "1             NaN          OTHER    NJ  6/30/1930 20:00\n",
       "2             NaN           OVAL    CO  2/15/1931 14:00\n",
       "3             NaN           DISK    KS   6/1/1931 13:00\n",
       "4             NaN          LIGHT    NY  4/18/1933 19:00"
      ]
     },
     "execution_count": 4,
     "metadata": {},
     "output_type": "execute_result"
    }
   ],
   "source": [
    "ufo.drop('City', axis = 1).head()"
   ]
  },
  {
   "cell_type": "code",
   "execution_count": 8,
   "metadata": {},
   "outputs": [
    {
     "data": {
      "text/html": [
       "<div>\n",
       "<style>\n",
       "    .dataframe thead tr:only-child th {\n",
       "        text-align: right;\n",
       "    }\n",
       "\n",
       "    .dataframe thead th {\n",
       "        text-align: left;\n",
       "    }\n",
       "\n",
       "    .dataframe tbody tr th {\n",
       "        vertical-align: top;\n",
       "    }\n",
       "</style>\n",
       "<table border=\"1\" class=\"dataframe\">\n",
       "  <thead>\n",
       "    <tr style=\"text-align: right;\">\n",
       "      <th></th>\n",
       "      <th>Colors Reported</th>\n",
       "      <th>Shape Reported</th>\n",
       "      <th>State</th>\n",
       "      <th>Time</th>\n",
       "    </tr>\n",
       "  </thead>\n",
       "  <tbody>\n",
       "    <tr>\n",
       "      <th>0</th>\n",
       "      <td>NaN</td>\n",
       "      <td>TRIANGLE</td>\n",
       "      <td>NY</td>\n",
       "      <td>6/1/1930 22:00</td>\n",
       "    </tr>\n",
       "    <tr>\n",
       "      <th>1</th>\n",
       "      <td>NaN</td>\n",
       "      <td>OTHER</td>\n",
       "      <td>NJ</td>\n",
       "      <td>6/30/1930 20:00</td>\n",
       "    </tr>\n",
       "    <tr>\n",
       "      <th>2</th>\n",
       "      <td>NaN</td>\n",
       "      <td>OVAL</td>\n",
       "      <td>CO</td>\n",
       "      <td>2/15/1931 14:00</td>\n",
       "    </tr>\n",
       "    <tr>\n",
       "      <th>3</th>\n",
       "      <td>NaN</td>\n",
       "      <td>DISK</td>\n",
       "      <td>KS</td>\n",
       "      <td>6/1/1931 13:00</td>\n",
       "    </tr>\n",
       "    <tr>\n",
       "      <th>4</th>\n",
       "      <td>NaN</td>\n",
       "      <td>LIGHT</td>\n",
       "      <td>NY</td>\n",
       "      <td>4/18/1933 19:00</td>\n",
       "    </tr>\n",
       "  </tbody>\n",
       "</table>\n",
       "</div>"
      ],
      "text/plain": [
       "  Colors Reported Shape Reported State             Time\n",
       "0             NaN       TRIANGLE    NY   6/1/1930 22:00\n",
       "1             NaN          OTHER    NJ  6/30/1930 20:00\n",
       "2             NaN           OVAL    CO  2/15/1931 14:00\n",
       "3             NaN           DISK    KS   6/1/1931 13:00\n",
       "4             NaN          LIGHT    NY  4/18/1933 19:00"
      ]
     },
     "execution_count": 8,
     "metadata": {},
     "output_type": "execute_result"
    }
   ],
   "source": [
    "ufo.head()"
   ]
  },
  {
   "cell_type": "code",
   "execution_count": null,
   "metadata": {
    "collapsed": true
   },
   "outputs": [],
   "source": [
    "ufo.drop('City', axis = 1, inplace=True)"
   ]
  },
  {
   "cell_type": "code",
   "execution_count": 10,
   "metadata": {},
   "outputs": [
    {
     "data": {
      "text/html": [
       "<div>\n",
       "<style>\n",
       "    .dataframe thead tr:only-child th {\n",
       "        text-align: right;\n",
       "    }\n",
       "\n",
       "    .dataframe thead th {\n",
       "        text-align: left;\n",
       "    }\n",
       "\n",
       "    .dataframe tbody tr th {\n",
       "        vertical-align: top;\n",
       "    }\n",
       "</style>\n",
       "<table border=\"1\" class=\"dataframe\">\n",
       "  <thead>\n",
       "    <tr style=\"text-align: right;\">\n",
       "      <th></th>\n",
       "      <th>Colors Reported</th>\n",
       "      <th>Shape Reported</th>\n",
       "      <th>State</th>\n",
       "      <th>Time</th>\n",
       "    </tr>\n",
       "  </thead>\n",
       "  <tbody>\n",
       "    <tr>\n",
       "      <th>0</th>\n",
       "      <td>NaN</td>\n",
       "      <td>TRIANGLE</td>\n",
       "      <td>NY</td>\n",
       "      <td>6/1/1930 22:00</td>\n",
       "    </tr>\n",
       "    <tr>\n",
       "      <th>1</th>\n",
       "      <td>NaN</td>\n",
       "      <td>OTHER</td>\n",
       "      <td>NJ</td>\n",
       "      <td>6/30/1930 20:00</td>\n",
       "    </tr>\n",
       "    <tr>\n",
       "      <th>2</th>\n",
       "      <td>NaN</td>\n",
       "      <td>OVAL</td>\n",
       "      <td>CO</td>\n",
       "      <td>2/15/1931 14:00</td>\n",
       "    </tr>\n",
       "    <tr>\n",
       "      <th>3</th>\n",
       "      <td>NaN</td>\n",
       "      <td>DISK</td>\n",
       "      <td>KS</td>\n",
       "      <td>6/1/1931 13:00</td>\n",
       "    </tr>\n",
       "    <tr>\n",
       "      <th>4</th>\n",
       "      <td>NaN</td>\n",
       "      <td>LIGHT</td>\n",
       "      <td>NY</td>\n",
       "      <td>4/18/1933 19:00</td>\n",
       "    </tr>\n",
       "  </tbody>\n",
       "</table>\n",
       "</div>"
      ],
      "text/plain": [
       "  Colors Reported Shape Reported State             Time\n",
       "0             NaN       TRIANGLE    NY   6/1/1930 22:00\n",
       "1             NaN          OTHER    NJ  6/30/1930 20:00\n",
       "2             NaN           OVAL    CO  2/15/1931 14:00\n",
       "3             NaN           DISK    KS   6/1/1931 13:00\n",
       "4             NaN          LIGHT    NY  4/18/1933 19:00"
      ]
     },
     "execution_count": 10,
     "metadata": {},
     "output_type": "execute_result"
    }
   ],
   "source": [
    "ufo.head()"
   ]
  },
  {
   "cell_type": "code",
   "execution_count": 12,
   "metadata": {},
   "outputs": [
    {
     "data": {
      "text/plain": [
       "(2490, 4)"
      ]
     },
     "execution_count": 12,
     "metadata": {},
     "output_type": "execute_result"
    }
   ],
   "source": [
    "ufo.dropna(how='any').shape"
   ]
  },
  {
   "cell_type": "code",
   "execution_count": 13,
   "metadata": {},
   "outputs": [
    {
     "data": {
      "text/plain": [
       "(18241, 4)"
      ]
     },
     "execution_count": 13,
     "metadata": {},
     "output_type": "execute_result"
    }
   ],
   "source": [
    "ufo.shape"
   ]
  },
  {
   "cell_type": "code",
   "execution_count": null,
   "metadata": {
    "collapsed": true
   },
   "outputs": [],
   "source": [
    "#Equivalent\n",
    "ufo.set_index('Time', inplace = True)\n",
    "ufo = ufo.set_index('Time')"
   ]
  },
  {
   "cell_type": "markdown",
   "metadata": {},
   "source": [
    "### Bonus"
   ]
  },
  {
   "cell_type": "code",
   "execution_count": 16,
   "metadata": {},
   "outputs": [
    {
     "data": {
      "text/plain": [
       "<bound method NDFrame.tail of                  Colors Reported Shape Reported State\n",
       "Time                                                 \n",
       "6/1/1930 22:00               NaN       TRIANGLE    NY\n",
       "6/30/1930 20:00              NaN          OTHER    NJ\n",
       "2/15/1931 14:00              NaN           OVAL    CO\n",
       "6/1/1931 13:00               NaN           DISK    KS\n",
       "4/18/1933 19:00              NaN          LIGHT    NY\n",
       "9/15/1934 15:30              NaN           DISK    ND\n",
       "6/15/1935 0:00               NaN         CIRCLE    CA\n",
       "7/15/1936 0:00               NaN           DISK    MI\n",
       "10/15/1936 17:00             NaN          CIGAR    AK\n",
       "6/15/1937 0:00               NaN       CYLINDER    OR\n",
       "8/15/1937 21:00              NaN          LIGHT    CA\n",
       "6/1/1939 20:00               NaN       FIREBALL    AL\n",
       "6/30/1939 20:00              RED         SPHERE    SC\n",
       "7/7/1939 2:00                RED           OVAL    IA\n",
       "6/1/1941 13:00               RED           DISK    MI\n",
       "7/2/1941 11:30               RED         CIRCLE    CA\n",
       "2/25/1942 0:00               RED         CIRCLE    CA\n",
       "6/1/1942 22:30               RED         CIRCLE    GA\n",
       "7/15/1942 1:00               RED      RECTANGLE    TN\n",
       "4/30/1943 23:00              RED          OTHER    AK\n",
       "6/1/1943 15:00               RED           DISK    NE\n",
       "8/15/1943 0:00               RED           DISK    LA\n",
       "8/15/1943 0:00               RED          LIGHT    LA\n",
       "10/15/1943 11:00             RED      RECTANGLE    KY\n",
       "1/1/1944 10:00               RED           DISK    WV\n",
       "1/1/1944 12:00               RED          CIGAR    CA\n",
       "1/1/1944 12:00               RED           DISK    WV\n",
       "4/2/1944 11:00               RED           DISK    NM\n",
       "6/1/1944 12:00               RED           DISK    NM\n",
       "6/30/1944 10:00              RED           DISK    UT\n",
       "...                          ...            ...   ...\n",
       "12/28/2000 18:00            BLUE        DIAMOND    MA\n",
       "12/28/2000 18:20            BLUE           DISK    CA\n",
       "12/28/2000 19:10           GREEN       FIREBALL    CA\n",
       "12/29/2000 0:00            GREEN      FORMATION    TX\n",
       "12/29/2000 9:00            GREEN          OTHER    TX\n",
       "12/29/2000 16:10          ORANGE          LIGHT    CA\n",
       "12/29/2000 19:30          ORANGE       TRIANGLE    CO\n",
       "12/29/2000 20:00          ORANGE        DIAMOND    TX\n",
       "12/29/2000 20:30          ORANGE        CHEVRON    CA\n",
       "12/29/2000 20:30            BLUE           DISK    CA\n",
       "12/29/2000 20:50            BLUE           DISK    NH\n",
       "12/29/2000 21:00            BLUE          OTHER    PA\n",
       "12/29/2000 22:00            BLUE          OTHER    SC\n",
       "12/29/2000 23:30            BLUE           DISK    OK\n",
       "12/30/2000 10:00            BLUE      FORMATION    CA\n",
       "12/30/2000 22:00            BLUE      FORMATION    CA\n",
       "12/30/2000 22:00            BLUE       TRIANGLE    CA\n",
       "12/31/2000 4:00             BLUE          LIGHT    TX\n",
       "12/31/2000 11:45            BLUE           DISK    IL\n",
       "12/31/2000 20:00            BLUE           OVAL    CA\n",
       "12/31/2000 20:00            BLUE           OVAL    CA\n",
       "12/31/2000 20:30            BLUE           OVAL    WI\n",
       "12/31/2000 21:00             RED        VARIOUS    AK\n",
       "12/31/2000 22:00             RED       TRIANGLE    CA\n",
       "12/31/2000 23:00             RED       TRIANGLE    AZ\n",
       "12/31/2000 23:00             RED       TRIANGLE    IL\n",
       "12/31/2000 23:00             RED           DISK    IA\n",
       "12/31/2000 23:45             RED           DISK    WI\n",
       "12/31/2000 23:45             RED          LIGHT    WI\n",
       "12/31/2000 23:59             RED           OVAL    FL\n",
       "\n",
       "[18241 rows x 3 columns]>"
      ]
     },
     "execution_count": 16,
     "metadata": {},
     "output_type": "execute_result"
    }
   ],
   "source": [
    "ufo.fillna(method ='ffill').tail"
   ]
  },
  {
   "cell_type": "code",
   "execution_count": 17,
   "metadata": {},
   "outputs": [
    {
     "data": {
      "text/plain": [
       "<bound method NDFrame.tail of                  Colors Reported Shape Reported State\n",
       "Time                                                 \n",
       "6/1/1930 22:00               RED       TRIANGLE    NY\n",
       "6/30/1930 20:00              RED          OTHER    NJ\n",
       "2/15/1931 14:00              RED           OVAL    CO\n",
       "6/1/1931 13:00               RED           DISK    KS\n",
       "4/18/1933 19:00              RED          LIGHT    NY\n",
       "9/15/1934 15:30              RED           DISK    ND\n",
       "6/15/1935 0:00               RED         CIRCLE    CA\n",
       "7/15/1936 0:00               RED           DISK    MI\n",
       "10/15/1936 17:00             RED          CIGAR    AK\n",
       "6/15/1937 0:00               RED       CYLINDER    OR\n",
       "8/15/1937 21:00              RED          LIGHT    CA\n",
       "6/1/1939 20:00               RED       FIREBALL    AL\n",
       "6/30/1939 20:00              RED         SPHERE    SC\n",
       "7/7/1939 2:00                RED           OVAL    IA\n",
       "6/1/1941 13:00               RED           DISK    MI\n",
       "7/2/1941 11:30               RED         CIRCLE    CA\n",
       "2/25/1942 0:00               RED      RECTANGLE    CA\n",
       "6/1/1942 22:30               RED      RECTANGLE    GA\n",
       "7/15/1942 1:00               RED      RECTANGLE    TN\n",
       "4/30/1943 23:00              RED          OTHER    AK\n",
       "6/1/1943 15:00               RED           DISK    NE\n",
       "8/15/1943 0:00               RED          LIGHT    LA\n",
       "8/15/1943 0:00               RED          LIGHT    LA\n",
       "10/15/1943 11:00             RED      RECTANGLE    KY\n",
       "1/1/1944 10:00               RED           DISK    WV\n",
       "1/1/1944 12:00               RED          CIGAR    CA\n",
       "1/1/1944 12:00               RED           DISK    WV\n",
       "4/2/1944 11:00               RED           DISK    NM\n",
       "6/1/1944 12:00               RED           DISK    NM\n",
       "6/30/1944 10:00              RED           DISK    UT\n",
       "...                          ...            ...   ...\n",
       "12/28/2000 18:00           GREEN        DIAMOND    MA\n",
       "12/28/2000 18:20           GREEN           DISK    CA\n",
       "12/28/2000 19:10           GREEN       FIREBALL    CA\n",
       "12/29/2000 0:00           ORANGE      FORMATION    TX\n",
       "12/29/2000 9:00           ORANGE          OTHER    TX\n",
       "12/29/2000 16:10          ORANGE          LIGHT    CA\n",
       "12/29/2000 19:30            BLUE       TRIANGLE    CO\n",
       "12/29/2000 20:00            BLUE        DIAMOND    TX\n",
       "12/29/2000 20:30            BLUE        CHEVRON    CA\n",
       "12/29/2000 20:30            BLUE           DISK    CA\n",
       "12/29/2000 20:50             RED           DISK    NH\n",
       "12/29/2000 21:00             RED          OTHER    PA\n",
       "12/29/2000 22:00             RED           DISK    SC\n",
       "12/29/2000 23:30             RED           DISK    OK\n",
       "12/30/2000 10:00             RED      FORMATION    CA\n",
       "12/30/2000 22:00             RED      FORMATION    CA\n",
       "12/30/2000 22:00             RED       TRIANGLE    CA\n",
       "12/31/2000 4:00              RED          LIGHT    TX\n",
       "12/31/2000 11:45             RED           DISK    IL\n",
       "12/31/2000 20:00             RED           OVAL    CA\n",
       "12/31/2000 20:00             RED           OVAL    CA\n",
       "12/31/2000 20:30             RED        VARIOUS    WI\n",
       "12/31/2000 21:00             RED        VARIOUS    AK\n",
       "12/31/2000 22:00             RED       TRIANGLE    CA\n",
       "12/31/2000 23:00             RED       TRIANGLE    AZ\n",
       "12/31/2000 23:00             RED       TRIANGLE    IL\n",
       "12/31/2000 23:00             RED           DISK    IA\n",
       "12/31/2000 23:45             RED          LIGHT    WI\n",
       "12/31/2000 23:45             RED          LIGHT    WI\n",
       "12/31/2000 23:59             NaN           OVAL    FL\n",
       "\n",
       "[18241 rows x 3 columns]>"
      ]
     },
     "execution_count": 17,
     "metadata": {},
     "output_type": "execute_result"
    }
   ],
   "source": [
    "ufo.fillna(method ='bfill').tail"
   ]
  },
  {
   "cell_type": "code",
   "execution_count": null,
   "metadata": {
    "collapsed": true
   },
   "outputs": [],
   "source": []
  }
 ],
 "metadata": {
  "kernelspec": {
   "display_name": "Python 3",
   "language": "python",
   "name": "python3"
  },
  "language_info": {
   "codemirror_mode": {
    "name": "ipython",
    "version": 3
   },
   "file_extension": ".py",
   "mimetype": "text/x-python",
   "name": "python",
   "nbconvert_exporter": "python",
   "pygments_lexer": "ipython3",
   "version": "3.6.1"
  }
 },
 "nbformat": 4,
 "nbformat_minor": 2
}
